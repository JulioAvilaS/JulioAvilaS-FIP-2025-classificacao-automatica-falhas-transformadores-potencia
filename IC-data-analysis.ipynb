{
 "cells": [
  {
   "cell_type": "code",
   "execution_count": 54,
   "metadata": {},
   "outputs": [],
   "source": [
    "import csv\n",
    "import matplotlib.pyplot as plt\n",
    "\n",
    "file = \"Datasets/1.0-dataset/train_samples.csv\""
   ]
  },
  {
   "cell_type": "markdown",
   "metadata": {},
   "source": [
    "# Definição de máximo e mínimo geral:"
   ]
  },
  {
   "cell_type": "code",
   "execution_count": 55,
   "metadata": {},
   "outputs": [
    {
     "name": "stdout",
     "output_type": "stream",
     "text": [
      "linha do valor máximo: 4\n",
      "O valor máximo é: 95650.0\n",
      "Número igual a zero na linha 3\n",
      "Número igual a zero na linha 7\n",
      "Número igual a zero na linha 9\n",
      "O valor mínimo é: 0.0\n"
     ]
    }
   ],
   "source": [
    "def maximum(filename):\n",
    "    max_value = 0.00\n",
    "    with open(filename, mode='r') as file:\n",
    "        csv_test_gases = csv.reader(file)\n",
    "        next(csv_test_gases)\n",
    "        i = 2\n",
    "        max_line = 2\n",
    "        for row in csv_test_gases:\n",
    "\n",
    "            for gas in row:\n",
    "                gas_value = round(float(gas), 4)\n",
    "                if gas_value > max_value:\n",
    "                    max_value = gas_value\n",
    "                    max_line = i   \n",
    "            i +=1    \n",
    "    print(f\"linha do valor máximo: {max_line}\")         \n",
    "    return max_value\n",
    "\n",
    "\n",
    "def minimum(filename):\n",
    "    high_value = 40280.00\n",
    "    min_value = round(high_value, 4)\n",
    "    with open(filename, mode='r') as file:\n",
    "        csv_test_gases = csv.reader(file)\n",
    "        next(csv_test_gases)\n",
    "        \n",
    "        i = 1\n",
    "        for row in csv_test_gases:\n",
    "            i += 1\n",
    "            for gas in row:\n",
    "                gas_value = float(gas)\n",
    "                if gas_value == 0.000:\n",
    "                    print(f\"Número igual a zero na linha {i}\")\n",
    "\n",
    "                if gas_value < min_value:\n",
    "                    min_value = gas_value\n",
    "    return min_value\n",
    "\n",
    "\n",
    "    \n",
    "\n",
    "max_value = maximum(file)\n",
    "print(f\"O valor máximo é: {max_value}\")\n",
    "min_value = minimum(file)\n",
    "print(f\"O valor mínimo é: {min_value}\")\n"
   ]
  },
  {
   "cell_type": "markdown",
   "metadata": {},
   "source": [
    "# Definição do mínimo e máximo de cada gás:"
   ]
  },
  {
   "cell_type": "code",
   "execution_count": 56,
   "metadata": {},
   "outputs": [
    {
     "name": "stdout",
     "output_type": "stream",
     "text": [
      "linha do valor máximo: 2\n",
      "linha do valor mínimo: 3\n",
      "O valor máximo de h2 é: 92600.0. E o mínimo: 0.0\n",
      "linha do valor máximo: 4\n",
      "linha do valor mínimo: 5\n",
      "O valor máximo de ch2 é: 64064.0. E o mínimo: 0.001\n",
      "linha do valor máximo: 6\n",
      "linha do valor mínimo: 7\n",
      "O valor máximo de c2h2 é: 37565.0. E o mínimo: 0.0\n",
      "linha do valor máximo: 4\n",
      "linha do valor mínimo: 8\n",
      "O valor máximo de c2h4 é: 95650.0. E o mínimo: 0.001\n",
      "linha do valor máximo: 4\n",
      "linha do valor mínimo: 9\n",
      "O valor máximo de c2h6 é: 72128.0. E o mínimo: 0.0\n"
     ]
    }
   ],
   "source": [
    "def maximum(gas_id, filename=file):\n",
    "    max_value = 0.00\n",
    "    with open(filename, mode='r') as file:\n",
    "        csv_test_gases = csv.reader(file)\n",
    "        next(csv_test_gases)\n",
    "        i = 2\n",
    "        max_line = 2\n",
    "        for row in csv_test_gases:\n",
    "            gas_value = round(float(row[gas_id -1]), 3)\n",
    "            if gas_value > max_value:\n",
    "                max_value = gas_value\n",
    "                max_line = i   \n",
    "            i +=1    \n",
    "    print(f\"linha do valor máximo: {max_line}\")         \n",
    "    return max_value\n",
    "\n",
    "\n",
    "def minimum(gas_id, filename=file):\n",
    "    min_value = 95650.000\n",
    "    with open(filename, mode='r') as file:\n",
    "        csv_test_gases = csv.reader(file)\n",
    "        next(csv_test_gases)\n",
    "        i = 2\n",
    "        max_line = 2\n",
    "        for row in csv_test_gases:\n",
    "            gas_value = round(float(row[gas_id -1]), 3)\n",
    "            if gas_value < min_value:\n",
    "                min_value = gas_value\n",
    "                max_line = i   \n",
    "            i +=1    \n",
    "    print(f\"linha do valor mínimo: {max_line}\")         \n",
    "    return min_value\n",
    "\n",
    "\n",
    "\n",
    "print(f\"O valor máximo de h2 é: {maximum(1)}. E o mínimo: {minimum(1)}\")\n",
    "print(f\"O valor máximo de ch2 é: {maximum(2)}. E o mínimo: {minimum(2)}\")\n",
    "print(f\"O valor máximo de c2h2 é: {maximum(3)}. E o mínimo: {minimum(3)}\")\n",
    "print(f\"O valor máximo de c2h4 é: {maximum(4)}. E o mínimo: {minimum(4)}\")\n",
    "print(f\"O valor máximo de c2h6 é: {maximum(5)}. E o mínimo: {minimum(5)}\")"
   ]
  },
  {
   "cell_type": "markdown",
   "metadata": {},
   "source": [
    "# Definição da média geral e de cada gás:"
   ]
  },
  {
   "cell_type": "code",
   "execution_count": 57,
   "metadata": {},
   "outputs": [
    {
     "name": "stdout",
     "output_type": "stream",
     "text": [
      "A média geral dos gases é: 2506.884\n",
      "A média de h2 é: 9278.206\n",
      "A média de ch4 é: 936.4\n",
      "A média de c2h2 é: 1042.508\n",
      "A média de c2h4 é: 967.665\n",
      "A média de c2h6 é: 309.638\n"
     ]
    }
   ],
   "source": [
    "\n",
    "def all_gases_avg(filename):\n",
    "    gases_sum = 0 \n",
    "    number_of_gases = 4200\n",
    "    with open(filename, mode='r') as file:\n",
    "        csv_test_gases = csv.reader(file)\n",
    "        next(csv_test_gases)\n",
    "        for row in csv_test_gases:\n",
    "            for gas in row:\n",
    "                gas_value = float(gas)\n",
    "                gases_sum += gas_value\n",
    "\n",
    "    return round(gases_sum / number_of_gases, 3)\n",
    "\n",
    "def gas_avg(filename, gas_id):\n",
    "    gases_sum = 0\n",
    "    number_of_gases = 840\n",
    "    with open(filename, mode='r') as file:\n",
    "        csv_test_gases = csv.reader(file)\n",
    "        next(csv_test_gases)\n",
    "        for row in csv_test_gases:\n",
    "            gas_value = float(row[gas_id - 1])\n",
    "            gases_sum += gas_value\n",
    "    return round(gases_sum / number_of_gases, 3)\n",
    "\n",
    "print(f\"A média geral dos gases é: {all_gases_avg(file)}\")\n",
    "print(f\"A média de h2 é: {gas_avg(file, 1)}\")\n",
    "print(f\"A média de ch4 é: {gas_avg(file, 2)}\")\n",
    "print(f\"A média de c2h2 é: {gas_avg(file, 3)}\")\n",
    "print(f\"A média de c2h4 é: {gas_avg(file, 4)}\")\n",
    "print(f\"A média de c2h6 é: {gas_avg(file, 5)}\")"
   ]
  },
  {
   "cell_type": "markdown",
   "metadata": {},
   "source": [
    "# Criação do histograma:"
   ]
  },
  {
   "cell_type": "code",
   "execution_count": 58,
   "metadata": {},
   "outputs": [
    {
     "name": "stdout",
     "output_type": "stream",
     "text": [
      "105000\n"
     ]
    },
    {
     "data": {
      "image/png": "[encoded data removed]",
      "text/plain": [
       "<Figure size 640x480 with 1 Axes>"
      ]
     },
     "metadata": {},
     "output_type": "display_data"
    }
   ],
   "source": [
    "def get_gases_list(filename):\n",
    "    gases_list = []\n",
    "    with open(filename, mode='r') as file:\n",
    "        csv_test_gases = csv.reader(file)\n",
    "        next(csv_test_gases)\n",
    "        for row in csv_test_gases:\n",
    "            for gas in row:\n",
    "                gas_value = float(gas)\n",
    "                gases_list.append(gas_value)\n",
    "    return gases_list\n",
    "\n",
    "all_gases_list = get_gases_list(file)\n",
    "print(len(all_gases_list))\n",
    "\n",
    "plt.title('Histograma da base de 840 falhas', fontsize=14)\n",
    "plt.ylabel('Quantidade de gases')\n",
    "plt.xlabel('Valor dos gases (ppmm)')\n",
    "plt.hist(all_gases_list, 100, color='red', edgecolor='black', rwidth=1)\n",
    "plt.show()"
   ]
  },
  {
   "cell_type": "markdown",
   "metadata": {},
   "source": [
    "## Definição de quantidade de falhas"
   ]
  },
  {
   "cell_type": "code",
   "execution_count": 59,
   "metadata": {},
   "outputs": [],
   "source": [
    "\n",
    "\n",
    "# def get_amount_failures(filename):\n",
    "#     max_value = 0.00\n",
    "#     with open(filename, mode='r') as file:\n",
    "#         csv_test_gases = csv.reader(file)\n",
    "#         next(csv_test_gases)\n",
    "#         i = 2\n",
    "#         max_line = 2\n",
    "#         for row in csv_test_gases:\n",
    "\n",
    "#             for gas in row:\n",
    "#                 gas_value = round(float(gas), 4)\n",
    "#                 if gas_value > max_value:\n",
    "#                     max_value = gas_value\n",
    "#                     max_line = i   \n",
    "#             i +=1    \n",
    "#     print(f\"linha do valor máximo: {max_line}\")         \n",
    "#     return list_of_failures\n",
    "\n",
    "# list_of_failures = list_of_failures()"
   ]
  }
 ],
 "metadata": {
  "kernelspec": {
   "display_name": "ambiente_teste",
   "language": "python",
   "name": "python3"
  },
  "language_info": {
   "codemirror_mode": {
    "name": "ipython",
    "version": 3
   },
   "file_extension": ".py",
   "mimetype": "text/x-python",
   "name": "python",
   "nbconvert_exporter": "python",
   "pygments_lexer": "ipython3",
   "version": "3.9.0"
  }
 },
 "nbformat": 4,
 "nbformat_minor": 2
}
