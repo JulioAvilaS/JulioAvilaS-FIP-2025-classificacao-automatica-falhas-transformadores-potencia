{
 "cells": [
  {
   "cell_type": "code",
   "execution_count": 4,
   "metadata": {},
   "outputs": [],
   "source": [
    "import pandas as pd"
   ]
  },
  {
   "cell_type": "code",
   "execution_count": 5,
   "metadata": {},
   "outputs": [
    {
     "name": "stdout",
     "output_type": "stream",
     "text": [
      "Conversão concluída! Arquivo salvo como 'arquivo.csv'\n"
     ]
    }
   ],
   "source": [
    "filename = \"C:/ProjetosIC/JulioAvilaS-FIP-2025-classificacao-automatica-falhas-transformadores-potencia/Datasets/Original-datasets/test_clustering.xlsx\"\n",
    "# Ler o arquivo Excel (.xlsx)\n",
    "df = pd.read_excel(filename, engine='openpyxl')  # Se for .xls, use 'xlrd'\n",
    "\n",
    "filename = \"C:/ProjetosIC/JulioAvilaS-FIP-2025-classificacao-automatica-falhas-transformadores-potencia/Datasets/Original-datasets-csv/test_clustering.csv\"\n",
    "# Salvar como CSV (use index=False para evitar uma coluna extra de índices)\n",
    "df.to_csv(filename, index=False, encoding='utf-8-sig')  # 'utf-8-sig' evita problemas com acentos\n",
    "\n",
    "print(\"Conversão concluída! Arquivo salvo como 'arquivo.csv'\")"
   ]
  }
 ],
 "metadata": {
  "kernelspec": {
   "display_name": "ambiente_teste",
   "language": "python",
   "name": "python3"
  },
  "language_info": {
   "codemirror_mode": {
    "name": "ipython",
    "version": 3
   },
   "file_extension": ".py",
   "mimetype": "text/x-python",
   "name": "python",
   "nbconvert_exporter": "python",
   "pygments_lexer": "ipython3",
   "version": "3.9.0"
  }
 },
 "nbformat": 4,
 "nbformat_minor": 2
}
