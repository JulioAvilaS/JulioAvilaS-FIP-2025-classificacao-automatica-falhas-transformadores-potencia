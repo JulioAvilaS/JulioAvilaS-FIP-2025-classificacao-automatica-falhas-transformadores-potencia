{
 "cells": [
  {
   "cell_type": "code",
   "execution_count": 44,
   "metadata": {},
   "outputs": [],
   "source": [
    "import csv\n",
    "import random\n",
    "from enum import Enum"
   ]
  },
  {
   "cell_type": "code",
   "execution_count": 45,
   "metadata": {},
   "outputs": [
    {
     "name": "stdout",
     "output_type": "stream",
     "text": [
      "0\n"
     ]
    }
   ],
   "source": [
    "\n",
    "\n",
    "case = random.randint(0, 1)\n",
    "print(case)"
   ]
  },
  {
   "cell_type": "markdown",
   "metadata": {},
   "source": [
    "# Inicialização dos atributos"
   ]
  },
  {
   "cell_type": "code",
   "execution_count": 46,
   "metadata": {},
   "outputs": [],
   "source": [
    "class Gas(Enum):\n",
    "    C2H2 = \"C2H2\"\n",
    "    H2 = \"H2\"\n",
    "    C2H6 = \"C2H6\"\n",
    "    CH4 = \"CH4\"\n",
    "    C2H4 = \"C2H4\"\n",
    "\n",
    "class Failure(Enum):\n",
    "    PD = \"PD\"\n",
    "    D1 = \"D1\"\n",
    "    D2 = \"D2\"\n",
    "    T1 = \"T1\"\n",
    "    T2 = \"T2\"\n",
    "    T3 = \"T3\"\n",
    "    NF = \"NF\"\n",
    "\n",
    "def exponencial(min, max, lambda_valor):\n",
    "    while True:\n",
    "        numero = random.expovariate(lambda_valor)\n",
    "        if(min <= numero <= max):\n",
    "            return numero\n",
    "\n",
    "def midle(min, max, lambda_valor):\n",
    "    case = random.randint(0, 10)\n",
    "    if case == 0:\n",
    "        return random.uniform(min, max)    \n",
    "    else:\n",
    "        return exponencial(min, max, lambda_valor)\n",
    "\n",
    "\n",
    "def randomizer(decimal_places=3):\n",
    "    min = 0.001\n",
    "    max = 10000\n",
    "    lambda_valor = 0.1\n",
    "\n",
    "    return {\n",
    "        Gas.C2H2: round(midle(min, max, lambda_valor), decimal_places),\n",
    "        Gas.H2: round(midle(min, max, lambda_valor), decimal_places),\n",
    "        Gas.C2H6: round(midle(min, max, lambda_valor), decimal_places),\n",
    "        Gas.CH4: round(midle(min, max, lambda_valor), decimal_places),\n",
    "        Gas.C2H4: round(midle(min, max, lambda_valor), decimal_places)\n",
    "    }\n",
    "    \n",
    " \n",
    "\n",
    "\n",
    "\n",
    "def inicialize_failures():\n",
    "    return {\n",
    "        Failure.PD : 0,\n",
    "        Failure.D1 : 0,\n",
    "        Failure.D2 : 0,\n",
    "        Failure.T1 : 0,\n",
    "        Failure.T2 : 0,\n",
    "        Failure.T3 : 0,\n",
    "        Failure.NF : 0\n",
    "    }\n",
    "\n",
    "samples = []\n",
    "labels = []\n",
    "\n",
    "db_size = 6992"
   ]
  },
  {
   "cell_type": "markdown",
   "metadata": {},
   "source": [
    "# Geração de falhas e não falha:"
   ]
  },
  {
   "cell_type": "code",
   "execution_count": 47,
   "metadata": {},
   "outputs": [],
   "source": [
    "i = 0\n",
    "\n",
    "number_of_failures = db_size//7 + 3\n",
    "\n",
    "failure_counters = inicialize_failures()\n",
    "\n",
    "while(i < db_size):\n",
    "    gas_values = randomizer()\n",
    "    c2h2 = gas_values[Gas.C2H2]\n",
    "    h2 = gas_values[Gas.H2]\n",
    "    c2h6 = gas_values[Gas.C2H6]\n",
    "    ch4 = gas_values[Gas.CH4]\n",
    "    c2h4 = gas_values[Gas.C2H4]\n",
    "\n",
    "    if (ch4 / h2 < 0.1) and (c2h4 / c2h6 < 0.2):\n",
    "        if(failure_counters[Failure.PD] < number_of_failures):\n",
    "           i += 1\n",
    "           failure_counters[Failure.PD] +=1\n",
    "           samples.append((h2,ch4,c2h2,c2h4,c2h6))\n",
    "           labels.append(2)  # PD\n",
    "            \n",
    "    elif (c2h2 / c2h4 > 1) and (0.1 <= ch4 / h2 <= 0.5) and (c2h4 / c2h6 > 1):\n",
    "        if(failure_counters[Failure.D1] < number_of_failures):\n",
    "          i += 1\n",
    "          failure_counters[Failure.D1] +=1\n",
    "          samples.append((h2,ch4,c2h2,c2h4,c2h6))\n",
    "          labels.append(3)  # D1\n",
    "\n",
    "    elif (0.6 <= c2h2 / c2h4 <= 2.5) and (0.1 <= ch4 / h2 <= 1) and (c2h4 / c2h6 > 2):\n",
    "        if(failure_counters[Failure.D2] < number_of_failures):\n",
    "          i += 1\n",
    "          failure_counters[Failure.D2] +=1\n",
    "          samples.append((h2,ch4,c2h2,c2h4,c2h6))\n",
    "          labels.append(4)  # D2\n",
    "\n",
    "    elif (ch4 / h2 > 1) and (c2h4 / c2h6 < 1):\n",
    "        if(failure_counters[Failure.T1] < number_of_failures):\n",
    "          i += 1\n",
    "          failure_counters[Failure.T1] +=1\n",
    "          samples.append((h2,ch4,c2h2,c2h4,c2h6))\n",
    "          labels.append(5)  # T1\n",
    "\n",
    "    elif (c2h2 / c2h4 < 0.1) and (ch4 / h2 > 1) and (1 <= c2h4 / c2h6 <= 4):\n",
    "        if(failure_counters[Failure.T2] < number_of_failures):\n",
    "          i += 1\n",
    "          failure_counters[Failure.T2] +=1\n",
    "          samples.append((h2,ch4,c2h2,c2h4,c2h6))\n",
    "          labels.append(6)  # T2\n",
    "\n",
    "    elif (c2h2 / c2h4 < 0.2) and (ch4 / h2 > 1) and (c2h4 / c2h6 > 4):\n",
    "        if(failure_counters[Failure.T3] < number_of_failures):\n",
    "          i += 1\n",
    "          failure_counters[Failure.T3] +=1\n",
    "          samples.append((h2,ch4,c2h2,c2h4,c2h6))\n",
    "          labels.append(7)  # T3\n",
    "        nf = Failure.NF\n",
    "    elif (failure_counters[Failure.NF] < number_of_failures):\n",
    "        i += 1 \n",
    "        failure_counters[Failure.NF] +=1\n",
    "        #h2,ch4,c2h2,c2h4,c2h6\n",
    "        samples.append((h2,ch4,c2h2,c2h4,c2h6))\n",
    "        labels.append(1) # NF\n",
    "        \n",
    "    "
   ]
  },
  {
   "cell_type": "markdown",
   "metadata": {},
   "source": [
    "# Escritura das samples no CSV:"
   ]
  },
  {
   "cell_type": "code",
   "execution_count": 48,
   "metadata": {},
   "outputs": [],
   "source": [
    "filename = \"1.0-dataset/train_samples.csv\"\n",
    "\n",
    "with open(filename, mode='w', newline='') as file:\n",
    "    writer = csv.writer(file)\n",
    "    writer.writerow([\"h2\",\"ch4\",\"c2h2\",\"c2h4\",\"c2h6\"])\n",
    "    writer.writerow([92600.0,10200.0,0.001,2.0,1.0])\n",
    "    writer.writerow([0.0,18900.0,330.0,540.0,410.0])\n",
    "    writer.writerow([8800.0,64064.0,0.001,95650.0,72128.0])\n",
    "    writer.writerow([5.26,0.001,66.4,28.2,0.001])\n",
    "    writer.writerow([10092.0,5399.0,37565.0,6500.0,530.0])\n",
    "    writer.writerow([3417.62,131.42,0.0,1.22,14.36])\n",
    "    writer.writerow([134.0,13.0,0.001,0.001,267.0])\n",
    "    writer.writerow([7020.0,1850.0,4410.0,2960.0,0.0])\n",
    "    for sample in samples:\n",
    "        writer.writerow(sample)\n",
    "\n",
    "\n"
   ]
  },
  {
   "cell_type": "markdown",
   "metadata": {},
   "source": [
    "# Escritura das labels no CSV:"
   ]
  },
  {
   "cell_type": "code",
   "execution_count": 49,
   "metadata": {},
   "outputs": [],
   "source": [
    "filename = \"1.0-dataset/train_labels.csv\"\n",
    "\n",
    "with open(filename, mode='w', newline='') as file:\n",
    "    writer = csv.writer(file)\n",
    "    writer.writerow(['act'])\n",
    "    writer.writerow([2])\n",
    "    writer.writerow([5])\n",
    "    writer.writerow([7])\n",
    "    writer.writerow([3])\n",
    "    writer.writerow([3])\n",
    "    writer.writerow([2])\n",
    "    writer.writerow([2])\n",
    "    writer.writerow([4])\n",
    "    for label in labels:\n",
    "        writer.writerow([label])"
   ]
  }
 ],
 "metadata": {
  "kernelspec": {
   "display_name": "ambiente_teste",
   "language": "python",
   "name": "python3"
  },
  "language_info": {
   "codemirror_mode": {
    "name": "ipython",
    "version": 3
   },
   "file_extension": ".py",
   "mimetype": "text/x-python",
   "name": "python",
   "nbconvert_exporter": "python",
   "pygments_lexer": "ipython3",
   "version": "3.9.0"
  }
 },
 "nbformat": 4,
 "nbformat_minor": 2
}
